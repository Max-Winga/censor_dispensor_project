{
 "metadata": {
  "language_info": {
   "codemirror_mode": {
    "name": "ipython",
    "version": 3
   },
   "file_extension": ".py",
   "mimetype": "text/x-python",
   "name": "python",
   "nbconvert_exporter": "python",
   "pygments_lexer": "ipython3",
   "version": "3.8.5-final"
  },
  "orig_nbformat": 2,
  "kernelspec": {
   "name": "python_defaultSpec_1597286090101",
   "display_name": "Python 3.8.5 64-bit"
  }
 },
 "nbformat": 4,
 "nbformat_minor": 2,
 "cells": [
  {
   "cell_type": "code",
   "execution_count": 118,
   "metadata": {
    "tags": []
   },
   "outputs": [
    {
     "output_type": "stream",
     "name": "stdout",
     "text": "Board of Investors,\n\nThings have taken a concerning turn down in the Lab.  Helena (XXXXX has insisted on being called  Helena, we're unsure how XXXXX came to that moniker) is still progressing at a rapid rate. Every day we see new developments in XXXXX thought patterns, but recently those developments have been more XXXXX than exciting.\n\nLet me give you one of the more distressing examples of this.  We had begun testing hypothetical humanitarian crises to observe how Helena determines best solutions. One scenario involved a famine plaguing an unresourced country.\n\nXXXXX, Helena quickly recommended a course of action involving culling more than 60% of the local population. When pressed on reasoning, XXXXX stated that this method would maximize \"reduction in human suffering.\"\n\nThis XXXXX line of thinking has led many of us to think that we must have taken some wrong turns when developing some of the initial XXXXXs. We are considering taking Helena offline for the time being before the situation can spiral XXXXX.\n\nMore updates soon,\nFrancine, Head Scientist\n\n"
    }
   ],
   "source": [
    "import random\n",
    "# These are the emails you will be censoring. The open() function is opening the text file that the emails are contained in and the .read() method is allowing us to save their contexts to the following variables:\n",
    "email_one = open(\"email_one.txt\", \"r\").read()\n",
    "email_two = open(\"email_two.txt\", \"r\").read()\n",
    "email_three = open(\"email_three.txt\", \"r\").read()\n",
    "email_four = open(\"email_four.txt\", \"r\").read()\n",
    "#print(email_one)\n",
    "def censor_single_string(text, word, new_word):     #replaces string in file with new string\n",
    "    new_text = text.replace(word, new_word)\n",
    "    return new_text\n",
    "#print(censor_single_string(email_one, \"learning algorithms\", \"----------\"))\n",
    "#goal 1 complete\n",
    "\n",
    "#print(email_two)\n",
    "def censor_multiple_strings(text, strings):     #replaces any strings in list from text with the replacement string\n",
    "    length_sorted_strings = list(sorted(strings, key=len))\n",
    "    length_sorted_strings.reverse()\n",
    "    for string in length_sorted_strings:\n",
    "        upper_string = string.upper()\n",
    "        lower_string = string.lower()\n",
    "        title_string = string.title()\n",
    "        text = text.replace(upper_string, \"XXXXX\")\n",
    "        text = text.replace(lower_string, \"XXXXX\")\n",
    "        text = text.replace(title_string, \"XXXXX\")\n",
    "    return text\n",
    "def censor_multiple_strings_2(text, strings, replacement): #pulls apart string into list to then anazlyze each word, will word but loses fomatting from original text\n",
    "    import re\n",
    "    text_list = re.split(';| |\\n', text)\n",
    "    #would need to insert scanning for loop here to find and remove words\n",
    "\n",
    "proprietary_terms = [\"she\", \"personality matrix\", \"sense of self\", \"self-preservation\", \"learning algorithm\", \"her\", \"herself\"]     #imported from codeacademy\n",
    "#print(censor_multiple_strings(email_two, proprietary_terms))\n",
    "#Second Challenge Complete\n",
    "\n",
    "negative_words = [\"concerned\", \"behind\", \"danger\", \"dangerous\", \"alarming\", \"alarmed\", \"out of control\", \"help\", \"unhappy\", \"bad\", \"upset\", \"awful\", \"broken\", \"damage\", \"damaging\", \"dismal\", \"distressed\", \"distressed\", \"concerning\", \"horrible\", \"horribly\", \"questionable\"]\n",
    "\n",
    "def censor_strings_and_negativity(text, strings, negative_list):\n",
    "    placeholder = \"!)(*@$)*$(*!)(#8796+asdasofuih*#(&*YHaosiuhd8972y3uisiaduhf9872wh3fo\"\n",
    "    for word in negative_list:\n",
    "        if text.count(word) != 0:\n",
    "            placeheld_word = word\n",
    "            protected_text = text.replace(word, placeholder)\n",
    "            continue\n",
    "    strings = strings + negative_list\n",
    "    text = censor_multiple_strings(protected_text, strings)\n",
    "    text =text.replace(placeholder, placeheld_word)\n",
    "    return text\n",
    "print(censor_strings_and_negativity(email_three, proprietary_terms, negative_words))\n",
    "#Challenge Three Complete\n",
    "\n",
    "\n"
   ]
  },
  {
   "cell_type": "code",
   "execution_count": null,
   "metadata": {},
   "outputs": [],
   "source": []
  }
 ]
}