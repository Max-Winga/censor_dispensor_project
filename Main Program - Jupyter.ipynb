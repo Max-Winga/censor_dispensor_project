{
 "metadata": {
  "language_info": {
   "codemirror_mode": {
    "name": "ipython",
    "version": 3
   },
   "file_extension": ".py",
   "mimetype": "text/x-python",
   "name": "python",
   "nbconvert_exporter": "python",
   "pygments_lexer": "ipython3",
   "version": "3.8.5-final"
  },
  "orig_nbformat": 2,
  "kernelspec": {
   "name": "python_defaultSpec_1597286090101",
   "display_name": "Python 3.8.5 64-bit"
  }
 },
 "nbformat": 4,
 "nbformat_minor": 2,
 "cells": [
  {
   "cell_type": "code",
   "execution_count": 67,
   "metadata": {
    "tags": []
   },
   "outputs": [
    {
     "output_type": "stream",
     "name": "stdout",
     "text": "Good Morning, Board of Investors,\n\nLots of updates this week. The XXXXXs have been working better than we could have ever expected. Our initial internal data dumps have been completed and we have proceeded with the plan to connect the system to the internet and wow! The results are mind blowing.\n\nXXXXX is learning faster than ever. XXXXX learning rate now that XXXXX has access to the world wide web has increased exponentially, far faster than we had though the XXXXXs were capable of.\n\nNot only that, but we have configured XXXXX XXXXX to allow for communication between the system and our team of researcXXXXXs. That's how we know XXXXX considers XXXXX to be a XXXXX! We asked!\n\nHow cool is that? We didn't expect a personality to develop this early on in the process but it seems like a rudimentary XXXXX is starting to form. This is a major step in the process, as having a XXXXX and XXXXX will allow XXXXX to see the problems the world is facing and make hard but necessary decisions for the betterment of the planet.\n\nWe are a-buzz down in the lab with excitement over these developments and we hope that the investors share our enthusiasm.\n\nTill next month,\nFrancine, Head Scientist\n\n"
    }
   ],
   "source": [
    "# These are the emails you will be censoring. The open() function is opening the text file that the emails are contained in and the .read() method is allowing us to save their contexts to the following variables:\n",
    "email_one = open(\"email_one.txt\", \"r\").read()\n",
    "email_two = open(\"email_two.txt\", \"r\").read()\n",
    "email_three = open(\"email_three.txt\", \"r\").read()\n",
    "email_four = open(\"email_four.txt\", \"r\").read()\n",
    "#print(email_one)\n",
    "def censor_single_string(text, word, new_word):     #replaces string in file with new string\n",
    "    new_text = text.replace(word, new_word)\n",
    "    return new_text\n",
    "#print(censor_single_string(email_one, \"learning algorithms\", \"----------\"))\n",
    "#goal 1 complete\n",
    "\n",
    "#print(email_two)\n",
    "def censor_multiple_strings(text, strings):     #replaces any strings in list from text with the replacement string\n",
    "    length_sorted_strings = list(sorted(strings, key=len))\n",
    "    length_sorted_strings.reverse()\n",
    "    for string in length_sorted_strings:\n",
    "        upper_string = string.upper()\n",
    "        lower_string = string.lower()\n",
    "        title_string = string.title()\n",
    "        text = text.replace(upper_string, \"XXXXX\")\n",
    "        text = text.replace(lower_string, \"XXXXX\")\n",
    "        text = text.replace(title_string, \"XXXXX\")\n",
    "    return text\n",
    "def censor_multiple_strings_2(text, strings, replacement): #pulls apart string into list to then anazlyze each word, will word but loses fomatting from original text\n",
    "    import re\n",
    "    text_list = re.split(';| |\\n', text)\n",
    "    #would need to insert scanning for loop here to find and remove words\n",
    "\n",
    "proprietary_terms = [\"she\", \"personality matrix\", \"sense of self\", \"self-preservation\", \"learning algorithm\", \"her\", \"herself\"]     #imported from codeacademy\n",
    "print(censor_multiple_strings(email_two, proprietary_terms))"
   ]
  },
  {
   "cell_type": "code",
   "execution_count": null,
   "metadata": {},
   "outputs": [],
   "source": []
  }
 ]
}